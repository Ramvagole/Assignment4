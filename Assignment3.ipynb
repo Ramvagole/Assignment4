{
 "cells": [
  {
   "cell_type": "code",
   "execution_count": null,
   "id": "4f2d5a98-53ad-4eac-8b0a-636a7bee60f3",
   "metadata": {},
   "outputs": [],
   "source": [
    "#Q1):-\n",
    "      Object − Objects have states and behaviors.\n",
    "       Example: A dog has states - color, name, breed as well as behaviors – wagging the tail, barking, eating.\n",
    "      An object is an instance of a class. \n",
    "       Class a class can be defined as a template/blueprint that describes the behavior/state that the object of its type support."
   ]
  },
  {
   "cell_type": "code",
   "execution_count": null,
   "id": "b37502cb-355e-4651-8abd-bef86d176f2a",
   "metadata": {},
   "outputs": [],
   "source": [
    "#Q2):-\n",
    "      Abstraction.\n",
    "      Encapsulation.\n",
    "      Inheritance.\n",
    "      Polymorphism."
   ]
  },
  {
   "cell_type": "code",
   "execution_count": null,
   "id": "df4cc075-e629-45b1-9df9-176895071185",
   "metadata": {},
   "outputs": [],
   "source": [
    "#Q3):-\n",
    "    The __init__ function is called every time an object is created from a class.  \n",
    "    The __init__ method lets the class initialize the object's attributes and serves no other purpose. \n",
    "    It is only used within classes.\n",
    "     Example:-\n",
    "        class std:\n",
    "            def __init__(self):\n",
    "                "
   ]
  },
  {
   "cell_type": "code",
   "execution_count": null,
   "id": "ce8f5b8f-9ddf-41f8-b371-6951e1d3fb85",
   "metadata": {},
   "outputs": [],
   "source": [
    "#Q4):-\n",
    "    The self variable is used to represent the instance of the class."
   ]
  },
  {
   "cell_type": "code",
   "execution_count": null,
   "id": "11c674a0-3574-4d27-b617-48039e5ed7aa",
   "metadata": {},
   "outputs": [],
   "source": [
    "#Q5):-\n",
    "     Inheritance is a mechanism in which one class acquires the property of another class. \n",
    "     Example, a child inherits the traits of his/her parents. With inheritance, we can reuse the fields and methods of the existing class."
   ]
  }
 ],
 "metadata": {
  "kernelspec": {
   "display_name": "Python 3 (ipykernel)",
   "language": "python",
   "name": "python3"
  },
  "language_info": {
   "codemirror_mode": {
    "name": "ipython",
    "version": 3
   },
   "file_extension": ".py",
   "mimetype": "text/x-python",
   "name": "python",
   "nbconvert_exporter": "python",
   "pygments_lexer": "ipython3",
   "version": "3.10.8"
  }
 },
 "nbformat": 4,
 "nbformat_minor": 5
}
